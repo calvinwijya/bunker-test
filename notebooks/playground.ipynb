{
 "cells": [
  {
   "cell_type": "code",
   "execution_count": 1,
   "metadata": {},
   "outputs": [
    {
     "name": "stderr",
     "output_type": "stream",
     "text": [
      "24/06/14 05:03:07 WARN SparkSession: Using an existing Spark session; only runtime SQL configurations will take effect.\n"
     ]
    }
   ],
   "source": [
    "from pyspark.sql import SparkSession\n",
    "spark = SparkSession.builder.appName(\"Jupyter\").getOrCreate()\n",
    "\n",
    "laureates_df = spark.read.option(\"header\", \"true\") \\\n",
    "                        .option(\"inferSchema\", \"true\") \\\n",
    "                        .csv(\"/home/iceberg/data/laureates.csv\") \\\n",
    "                        .createOrReplaceTempView(\"laureates\")\n",
    "prize_laureates_df =  spark.read.option(\"header\", \"true\") \\\n",
    "                        .option(\"inferSchema\", \"true\") \\\n",
    "                        .csv(\"/home/iceberg/data/prize_laureates.csv\") \\\n",
    "                        .createOrReplaceTempView(\"prize_laureates\")\n",
    "prizes_df =  spark.read.option(\"header\", \"true\") \\\n",
    "                        .option(\"inferSchema\", \"true\") \\\n",
    "                        .csv(\"/home/iceberg/data/prizes.csv\") \\\n",
    "                        .createOrReplaceTempView(\"prizes\")"
   ]
  },
  {
   "cell_type": "code",
   "execution_count": 2,
   "metadata": {},
   "outputs": [
    {
     "data": {
      "text/html": [
       "<table>\n",
       "    <thead>\n",
       "        <tr>\n",
       "            <th>id</th>\n",
       "            <th>full_name</th>\n",
       "            <th>total_awards</th>\n",
       "            <th>category</th>\n",
       "        </tr>\n",
       "    </thead>\n",
       "    <tbody>\n",
       "        <tr>\n",
       "            <td>482</td>\n",
       "            <td>None</td>\n",
       "            <td>3</td>\n",
       "            <td>Peace</td>\n",
       "        </tr>\n",
       "    </tbody>\n",
       "</table>"
      ],
      "text/plain": [
       "+-----+-----------+--------------+----------+\n",
       "|  id | full_name | total_awards | category |\n",
       "+-----+-----------+--------------+----------+\n",
       "| 482 |      None |            3 |    Peace |\n",
       "+-----+-----------+--------------+----------+"
      ]
     },
     "execution_count": 2,
     "metadata": {},
     "output_type": "execute_result"
    }
   ],
   "source": [
    "%%sql\n",
    "  \n",
    "WITH top_laureate AS (\n",
    "    SELECT laureate_id, category, COUNT(*) AS total_awards\n",
    "    FROM prize_laureates\n",
    "    GROUP BY laureate_id, category\n",
    "    ORDER BY total_awards DESC\n",
    "    LIMIT 1\n",
    ")\n",
    "    \n",
    "SELECT DISTINCT l.id, l.full_name, tl.total_awards, tl.category\n",
    "FROM top_laureate tl\n",
    "LEFT JOIN laureates l ON tl.laureate_id = l.id;\n",
    "\n",
    "-- given the winner that has won the most number of nobel awards is expected to be null. the data extracted is also null"
   ]
  }
 ],
 "metadata": {
  "kernelspec": {
   "display_name": "Python 3 (ipykernel)",
   "language": "python",
   "name": "python3"
  },
  "language_info": {
   "codemirror_mode": {
    "name": "ipython",
    "version": 3
   },
   "file_extension": ".py",
   "mimetype": "text/x-python",
   "name": "python",
   "nbconvert_exporter": "python",
   "pygments_lexer": "ipython3",
   "version": "3.9.18"
  }
 },
 "nbformat": 4,
 "nbformat_minor": 4
}
